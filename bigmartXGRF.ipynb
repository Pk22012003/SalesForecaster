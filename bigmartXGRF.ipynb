{
  "nbformat": 4,
  "nbformat_minor": 0,
  "metadata": {
    "colab": {
      "provenance": [],
      "authorship_tag": "ABX9TyNaiyLyiq5NU9Z4Xo+x0Ukc",
      "include_colab_link": true
    },
    "kernelspec": {
      "name": "python3",
      "display_name": "Python 3"
    },
    "language_info": {
      "name": "python"
    }
  },
  "cells": [
    {
      "cell_type": "markdown",
      "metadata": {
        "id": "view-in-github",
        "colab_type": "text"
      },
      "source": [
        "<a href=\"https://colab.research.google.com/github/Pk22012003/SalesForecaster/blob/main/bigmartXGRF.ipynb\" target=\"_parent\"><img src=\"https://colab.research.google.com/assets/colab-badge.svg\" alt=\"Open In Colab\"/></a>"
      ]
    },
    {
      "cell_type": "code",
      "execution_count": null,
      "metadata": {
        "id": "v02UpxVnM8Pc"
      },
      "outputs": [],
      "source": [
        "import pandas as pd\n",
        "import numpy as np\n",
        "from sklearn.model_selection import train_test_split, KFold\n",
        "from sklearn.ensemble import RandomForestRegressor\n",
        "from xgboost import XGBRegressor\n",
        "from sklearn.linear_model import Ridge\n",
        "from sklearn.preprocessing import LabelEncoder\n",
        "from sklearn.metrics import mean_squared_error, mean_absolute_error, r2_score"
      ]
    },
    {
      "cell_type": "code",
      "source": [
        "# Load dataset\n",
        "big_mart_data = pd.read_csv('/content/Train.csv')"
      ],
      "metadata": {
        "id": "EN4wWtukNdmW"
      },
      "execution_count": null,
      "outputs": []
    },
    {
      "cell_type": "code",
      "source": [
        "# Handle missing values\n",
        "big_mart_data['Item_Weight'] = big_mart_data['Item_Weight'].fillna(big_mart_data['Item_Weight'].mean())\n",
        "mode_outlet_size = big_mart_data.pivot_table(values='Outlet_Size', columns='Outlet_Type', aggfunc=lambda x: x.mode()[0])\n",
        "missing = big_mart_data['Outlet_Size'].isnull()\n",
        "big_mart_data.loc[missing, 'Outlet_Size'] = big_mart_data.loc[missing, 'Outlet_Type'].apply(lambda x: mode_outlet_size[x])\n"
      ],
      "metadata": {
        "id": "ILXZjgktN50i"
      },
      "execution_count": null,
      "outputs": []
    },
    {
      "cell_type": "code",
      "source": [
        "# Normalize Item_Fat_Content\n",
        "big_mart_data.replace({'Item_Fat_Content': {'low fat': 'Low Fat', 'LF': 'Low Fat', 'reg': 'Regular'}}, inplace=True)"
      ],
      "metadata": {
        "id": "tH8VUZbQN7r4"
      },
      "execution_count": null,
      "outputs": []
    },
    {
      "cell_type": "code",
      "source": [
        "# Feature Engineering\n",
        "big_mart_data['Item_Category'] = big_mart_data['Item_Identifier'].apply(lambda x: x[:2])\n",
        "big_mart_data['MRP_Cluster'] = pd.cut(big_mart_data['Item_MRP'], bins=[0, 70, 140, 200, 300], labels=[1, 2, 3, 4])\n",
        "big_mart_data['Outlet_Years'] = 2025 - big_mart_data['Outlet_Establishment_Year']\n",
        "big_mart_data['Item_Outlet_Sales_Log'] = np.log1p(big_mart_data['Item_Outlet_Sales'])"
      ],
      "metadata": {
        "id": "7zW7spPQOFfP"
      },
      "execution_count": null,
      "outputs": []
    },
    {
      "cell_type": "code",
      "source": [
        "# Encode categorical variables\n",
        "le = LabelEncoder()\n",
        "cols = ['Item_Identifier', 'Item_Fat_Content', 'Item_Type',\n",
        "        'Outlet_Identifier', 'Outlet_Size', 'Outlet_Location_Type',\n",
        "        'Outlet_Type', 'Item_Category']\n",
        "for col in cols:\n",
        "    big_mart_data[col] = le.fit_transform(big_mart_data[col])\n",
        "big_mart_data['MRP_Cluster'] = le.fit_transform(big_mart_data['MRP_Cluster'].astype(str))"
      ],
      "metadata": {
        "id": "s1Niwz9oONlT"
      },
      "execution_count": null,
      "outputs": []
    },
    {
      "cell_type": "code",
      "source": [
        "# Log transform target\n",
        "big_mart_data['Item_Outlet_Sales'] = np.log1p(big_mart_data['Item_Outlet_Sales'])"
      ],
      "metadata": {
        "id": "gadDsKDIOUnq"
      },
      "execution_count": null,
      "outputs": []
    },
    {
      "cell_type": "code",
      "source": [
        "# Features and target\n",
        "X = big_mart_data.drop(['Item_Identifier', 'Item_Outlet_Sales'], axis=1)\n",
        "y = big_mart_data['Item_Outlet_Sales']"
      ],
      "metadata": {
        "id": "F2qkE1fuOZPd"
      },
      "execution_count": null,
      "outputs": []
    },
    {
      "cell_type": "code",
      "source": [
        "# Train-test split\n",
        "X_train, X_test, y_train, y_test = train_test_split(X.values, y.values, test_size=0.2, random_state=42)"
      ],
      "metadata": {
        "id": "v72vewM8OirT"
      },
      "execution_count": null,
      "outputs": []
    },
    {
      "cell_type": "code",
      "source": [
        "# Base models\n",
        "xgb_model = XGBRegressor(n_estimators=300, learning_rate=0.1, max_depth=6, subsample=0.8, colsample_bytree=0.8, random_state=42)\n",
        "rf_model = RandomForestRegressor(n_estimators=200, max_depth=15, min_samples_split=5, min_samples_leaf=2, max_features='sqrt', random_state=42)"
      ],
      "metadata": {
        "id": "eggfLikSOlVO"
      },
      "execution_count": null,
      "outputs": []
    },
    {
      "cell_type": "code",
      "source": [
        "# KFold setup\n",
        "kf = KFold(n_splits=5, shuffle=True, random_state=42)\n",
        "n_train, n_test = X_train.shape[0], X_test.shape[0]\n",
        "blend_train = np.zeros((n_train, 2))\n",
        "blend_test = np.zeros((n_test, 2))"
      ],
      "metadata": {
        "id": "o7kJtWEAOoUo"
      },
      "execution_count": null,
      "outputs": []
    },
    {
      "cell_type": "code",
      "source": [
        "# Generate stacked features\n",
        "for i, model in enumerate([xgb_model, rf_model]):\n",
        "    test_pred_fold = np.zeros((n_test, kf.n_splits))\n",
        "    for j, (train_idx, val_idx) in enumerate(kf.split(X_train)):\n",
        "        X_tr, X_val = X_train[train_idx], X_train[val_idx]\n",
        "        y_tr, y_val = y_train[train_idx], y_train[val_idx]\n",
        "        model.fit(X_tr, y_tr)\n",
        "        blend_train[val_idx, i] = model.predict(X_val)\n",
        "        test_pred_fold[:, j] = model.predict(X_test)\n",
        "    blend_test[:, i] = test_pred_fold.mean(axis=1)"
      ],
      "metadata": {
        "id": "a7zzEbKmOq_7"
      },
      "execution_count": null,
      "outputs": []
    },
    {
      "cell_type": "code",
      "source": [
        "# Meta-model\n",
        "meta_model = Ridge(alpha=1.0)\n",
        "meta_model.fit(blend_train, y_train)\n",
        "final_pred_log = meta_model.predict(blend_test)\n",
        "final_pred = np.expm1(final_pred_log)\n",
        "y_test_actual = np.expm1(y_test)"
      ],
      "metadata": {
        "id": "smmor2qXOyXL"
      },
      "execution_count": null,
      "outputs": []
    },
    {
      "cell_type": "code",
      "source": [
        "# Metrics\n",
        "mse = mean_squared_error(y_test_actual, final_pred)\n",
        "rmse = np.sqrt(mse)\n",
        "mae = mean_absolute_error(y_test_actual, final_pred)\n",
        "r2 = r2_score(y_test_actual, final_pred)\n",
        "mape = np.mean(np.abs((y_test_actual - final_pred) / y_test_actual)) * 100"
      ],
      "metadata": {
        "id": "hZq7_D4pO1vt"
      },
      "execution_count": null,
      "outputs": []
    },
    {
      "cell_type": "code",
      "source": [
        "print(f\"Model Performance Metrics:\")\n",
        "print(f\"Mean Squared Error (MSE): {mse}\")\n",
        "print(f\"Root Mean Squared Error (RMSE): {rmse}\")\n",
        "print(f\"Mean Absolute Error (MAE): {mae}\")\n",
        "print(f\"R2 Score: {r2}\")\n",
        "print(f\"Mean Absolute Percentage Error (MAPE): {mape:.2f}%\")"
      ],
      "metadata": {
        "id": "TZLGJCZSO4ig",
        "outputId": "6ad985f1-32b2-4739-f47f-b395034e40dc",
        "colab": {
          "base_uri": "https://localhost:8080/"
        }
      },
      "execution_count": null,
      "outputs": [
        {
          "output_type": "stream",
          "name": "stdout",
          "text": [
            "Model Performance Metrics:\n",
            "Mean Squared Error (MSE): 2237.7683737691495\n",
            "Root Mean Squared Error (RMSE): 47.30505653489011\n",
            "Mean Absolute Error (MAE): 15.877124383847619\n",
            "R2 Score: 0.9991766765935893\n",
            "Mean Absolute Percentage Error (MAPE): 0.93%\n"
          ]
        }
      ]
    }
  ]
}